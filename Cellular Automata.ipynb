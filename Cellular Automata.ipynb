{
 "cells": [
  {
   "cell_type": "code",
   "execution_count": 182,
   "id": "e71735c6",
   "metadata": {},
   "outputs": [],
   "source": [
    "def SetIndex(currentState, i):\n",
    "    leftIndex = i - 1\n",
    "    rightIndex = 0\n",
    "\n",
    "    if i + 1 < len(currentState):\n",
    "        rightIndex = i + 1\n",
    "\n",
    "    if currentState[i] == 1:\n",
    "        print('#', end = '')\n",
    "\n",
    "    else:\n",
    "        print(' ', end = '')\n",
    "        \n",
    "    return leftIndex, rightIndex"
   ]
  },
  {
   "cell_type": "code",
   "execution_count": 183,
   "id": "61eb4ce8",
   "metadata": {},
   "outputs": [],
   "source": [
    "def Rule1D(currentState):\n",
    "    newState = []\n",
    "    \n",
    "    for i in range(len(currentState)):\n",
    "        leftIndex, rightIndex = SetIndex(currentState, i)\n",
    "        \n",
    "        if currentState[leftIndex] + currentState[i] + currentState[rightIndex] == 1:\n",
    "            newState.append(0)\n",
    "            \n",
    "        else:\n",
    "            newState.append(1)\n",
    "            \n",
    "    return newState"
   ]
  },
  {
   "cell_type": "code",
   "execution_count": 184,
   "id": "f77e9619",
   "metadata": {},
   "outputs": [],
   "source": [
    "def Rule90(currentState):\n",
    "    newState = []\n",
    "    \n",
    "    for i in range(len(currentState)):\n",
    "        leftIndex, rightIndex = SetIndex(currentState, i)\n",
    "        \n",
    "        if currentState[leftIndex] + currentState[rightIndex] == 1:\n",
    "            newState.append(1)\n",
    "            \n",
    "        else:\n",
    "            newState.append(0)\n",
    "            \n",
    "    return newState"
   ]
  },
  {
   "cell_type": "code",
   "execution_count": 185,
   "id": "562f2184",
   "metadata": {},
   "outputs": [
    {
     "name": "stdout",
     "output_type": "stream",
     "text": [
      "#   ##  # \n",
      "  # ##   #\n",
      "   ### #  \n",
      "## ####  #\n",
      "#######  #\n",
      "#######  #\n",
      "#######  #\n",
      "#######  #\n",
      "#######  #\n",
      "#######  #\n"
     ]
    }
   ],
   "source": [
    "initialState = [1, 0, 0, 0, 1, 1, 0, 0, 1, 0]\n",
    "\n",
    "for i in range(10):\n",
    "    initialState = Rule1D(initialState)\n",
    "    print()"
   ]
  },
  {
   "cell_type": "code",
   "execution_count": 186,
   "id": "776b8419",
   "metadata": {},
   "outputs": [
    {
     "name": "stdout",
     "output_type": "stream",
     "text": [
      "                                #                                \n",
      "                               # #                               \n",
      "                              #   #                              \n",
      "                             # # # #                             \n",
      "                            #       #                            \n",
      "                           # #     # #                           \n",
      "                          #   #   #   #                          \n",
      "                         # # # # # # # #                         \n",
      "                        #               #                        \n",
      "                       # #             # #                       \n",
      "                      #   #           #   #                      \n",
      "                     # # # #         # # # #                     \n",
      "                    #       #       #       #                    \n",
      "                   # #     # #     # #     # #                   \n",
      "                  #   #   #   #   #   #   #   #                  \n",
      "                 # # # # # # # # # # # # # # # #                 \n",
      "                #                               #                \n",
      "               # #                             # #               \n",
      "              #   #                           #   #              \n",
      "             # # # #                         # # # #             \n",
      "            #       #                       #       #            \n",
      "           # #     # #                     # #     # #           \n",
      "          #   #   #   #                   #   #   #   #          \n",
      "         # # # # # # # #                 # # # # # # # #         \n",
      "        #               #               #               #        \n",
      "       # #             # #             # #             # #       \n",
      "      #   #           #   #           #   #           #   #      \n",
      "     # # # #         # # # #         # # # #         # # # #     \n",
      "    #       #       #       #       #       #       #       #    \n",
      "   # #     # #     # #     # #     # #     # #     # #     # #   \n",
      "  #   #   #   #   #   #   #   #   #   #   #   #   #   #   #   #  \n",
      " # # # # # # # # # # # # # # # # # # # # # # # # # # # # # # # # \n"
     ]
    }
   ],
   "source": [
    "initialState = []\n",
    "triangles = 3\n",
    "pyramid = 4 * 2 ** triangles\n",
    "\n",
    "for i in range(pyramid):\n",
    "    initialState.append(0)\n",
    "\n",
    "initialState.append(1)\n",
    "\n",
    "for i in range(pyramid):\n",
    "    initialState.append(0)\n",
    "    \n",
    "for i in range(pyramid):\n",
    "    initialState = Rule90(initialState)\n",
    "    print()"
   ]
  },
  {
   "cell_type": "code",
   "execution_count": null,
   "id": "c3e947e4",
   "metadata": {},
   "outputs": [],
   "source": []
  }
 ],
 "metadata": {
  "kernelspec": {
   "display_name": "Python 3",
   "language": "python",
   "name": "python3"
  },
  "language_info": {
   "codemirror_mode": {
    "name": "ipython",
    "version": 3
   },
   "file_extension": ".py",
   "mimetype": "text/x-python",
   "name": "python",
   "nbconvert_exporter": "python",
   "pygments_lexer": "ipython3",
   "version": "3.8.8"
  }
 },
 "nbformat": 4,
 "nbformat_minor": 5
}
